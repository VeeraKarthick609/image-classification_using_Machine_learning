{
 "cells": [
  {
   "cell_type": "markdown",
   "metadata": {},
   "source": [
    "##### Data Cleaning\n"
   ]
  },
  {
   "cell_type": "code",
   "execution_count": null,
   "metadata": {},
   "outputs": [],
   "source": [
    "import numpy as np \n",
    "import pandas as pd\n",
    "import cv2\n",
    "import matplotlib.pyplot as plt \n",
    "%matplotlib inline"
   ]
  },
  {
   "cell_type": "code",
   "execution_count": null,
   "metadata": {},
   "outputs": [],
   "source": [
    "img = cv2.imread(\"./test-image.jpg\")\n",
    "img.shape"
   ]
  },
  {
   "cell_type": "code",
   "execution_count": null,
   "metadata": {},
   "outputs": [],
   "source": [
    "## converting the image to gray scale\n",
    "## to reduce dimension\n",
    "\n",
    "img = cv2.cvtColor(img, cv2.COLOR_BGR2GRAY)\n",
    "img.shape"
   ]
  },
  {
   "cell_type": "code",
   "execution_count": null,
   "metadata": {},
   "outputs": [],
   "source": [
    "img"
   ]
  },
  {
   "cell_type": "code",
   "execution_count": null,
   "metadata": {},
   "outputs": [],
   "source": [
    "### We will use cascade file to crop eyes and face\n",
    "### If there are only 2 eyes, then it is a valid image\n",
    "### If there are more than 1 face, then it is an invalid image\n",
    "\n",
    "face_cascade = cv2.CascadeClassifier(\"./haarcascades/haarcascade_frontalface_default.xml\")\n",
    "eyes_cascade = cv2.CascadeClassifier(\"./haarcascades/haarcascade_eye.xml\")\n",
    "\n",
    "faces = face_cascade.detectMultiScale(img, 1.3, 5)\n",
    "faces[0]"
   ]
  },
  {
   "cell_type": "code",
   "execution_count": null,
   "metadata": {},
   "outputs": [],
   "source": [
    "### the output is in the form (x1, y1, x2, y2)\n",
    "\n",
    "(x,y,w,h) = faces[0]\n",
    "\n",
    "face_img = cv2.rectangle(img, (x,y), (x+w, y+h), (255,0,0), 5)\n",
    "plt.imshow(face_img)"
   ]
  },
  {
   "cell_type": "code",
   "execution_count": null,
   "metadata": {},
   "outputs": [],
   "source": [
    "face = img[ y:y+h, x:x+w]\n",
    "plt.imshow(face)"
   ]
  },
  {
   "cell_type": "code",
   "execution_count": null,
   "metadata": {},
   "outputs": [],
   "source": [
    "for (x,y,w,h) in faces:\n",
    "    face_img = cv2.rectangle(img,(x,y),(x+w,y+h),(255,0,0),2)\n",
    "    roi_gray = img[y:y+h, x:x+w]\n",
    "    roi_color = face_img[y:y+h, x:x+w]\n",
    "    eyes = eyes_cascade.detectMultiScale(roi_gray)\n",
    "    for (ex,ey,ew,eh) in eyes:\n",
    "        cv2.rectangle(roi_color,(ex,ey),(ex+ew,ey+eh),(0,255,0),2)\n",
    "        \n",
    "\n",
    "plt.figure()\n",
    "plt.imshow(face_img, cmap='gray')\n",
    "plt.show()"
   ]
  },
  {
   "cell_type": "code",
   "execution_count": null,
   "metadata": {},
   "outputs": [],
   "source": [
    "def get_cropped_image_if_2_eyes(image_path):\n",
    "        \n",
    "    img = cv2.imread(image_path)\n",
    "    if img.any() == True:\n",
    "        return\n",
    "    gray = cv2.cvtColor(img, cv2.COLOR_BGR2GRAY)\n",
    "    faces = face_cascade.detectMultiScale(gray, 1.3, 5)\n",
    "    for (x,y,w,h) in faces:\n",
    "        roi_gray = gray[y:y+h, x:x+w]\n",
    "        roi_color = img[y:y+h, x:x+w]\n",
    "        eyes = eyes_cascade.detectMultiScale(roi_gray)\n",
    "        if len(eyes) >= 2:\n",
    "            roi_color_reshaped = cv2.resize(roi_color,(255,255))\n",
    "            return roi_color_reshaped"
   ]
  },
  {
   "cell_type": "code",
   "execution_count": null,
   "metadata": {},
   "outputs": [],
   "source": [
    "plt.matshow(get_cropped_image_if_2_eyes(\"./test-image.jpg\"))"
   ]
  },
  {
   "cell_type": "code",
   "execution_count": null,
   "metadata": {},
   "outputs": [],
   "source": [
    "import os\n",
    "\n",
    "face_names = os.listdir(\"./dataset/\")\n",
    "face_names"
   ]
  },
  {
   "cell_type": "code",
   "execution_count": null,
   "metadata": {},
   "outputs": [],
   "source": [
    "os.chdir(\"../\")"
   ]
  },
  {
   "cell_type": "code",
   "execution_count": null,
   "metadata": {},
   "outputs": [],
   "source": [
    "os.chdir(\"./dataset/lionel_messi/\")"
   ]
  },
  {
   "cell_type": "code",
   "execution_count": null,
   "metadata": {},
   "outputs": [],
   "source": [
    "os.listdir()"
   ]
  },
  {
   "cell_type": "code",
   "execution_count": null,
   "metadata": {},
   "outputs": [],
   "source": [
    "os.chdir(\"./image classification/\")\n",
    "os.getcwd()"
   ]
  },
  {
   "cell_type": "code",
   "execution_count": null,
   "metadata": {},
   "outputs": [],
   "source": [
    "path_to_data = \"./dataset/\"\n",
    "path_to_cr_data = \"./dataset/cropped/\""
   ]
  },
  {
   "cell_type": "code",
   "execution_count": null,
   "metadata": {},
   "outputs": [],
   "source": [
    "import os\n",
    "img_dirs = []\n",
    "for entry in os.scandir(path_to_data):\n",
    "    if entry.is_dir():\n",
    "        img_dirs.append(entry.path)"
   ]
  },
  {
   "cell_type": "code",
   "execution_count": null,
   "metadata": {},
   "outputs": [],
   "source": [
    "img_dirs\n"
   ]
  },
  {
   "cell_type": "code",
   "execution_count": null,
   "metadata": {},
   "outputs": [],
   "source": [
    "import shutil\n",
    "if os.path.exists(path_to_cr_data):\n",
    "     shutil.rmtree(path_to_cr_data)\n",
    "os.mkdir(path_to_cr_data)"
   ]
  },
  {
   "cell_type": "code",
   "execution_count": null,
   "metadata": {},
   "outputs": [],
   "source": [
    "cropped_image_dirs = []\n",
    "celebrity_file_names_dict = {}\n",
    "\n",
    "for img_dir in img_dirs:\n",
    "    count = 1\n",
    "    celebrity_name = img_dir.split('/')[-1]\n",
    "    print(celebrity_name)\n",
    "    \n",
    "    celebrity_file_names_dict[celebrity_name] = []\n",
    "    \n",
    "    for entry in os.scandir(img_dir):\n",
    "        roi_color = get_cropped_image_if_2_eyes(entry.path)\n",
    "        if roi_color is not None:\n",
    "            cropped_folder = path_to_cr_data + celebrity_name\n",
    "            if not os.path.exists(cropped_folder):\n",
    "                os.makedirs(cropped_folder)\n",
    "                cropped_image_dirs.append(cropped_folder)\n",
    "                print(\"Generating cropped images in folder: \",cropped_folder)\n",
    "                \n",
    "            cropped_file_name = celebrity_name + str(count) + \".png\"\n",
    "            cropped_file_path = cropped_folder + \"/\" + cropped_file_name \n",
    "            \n",
    "            cv2.imwrite(cropped_file_path, roi_color)\n",
    "            celebrity_file_names_dict[celebrity_name].append(cropped_file_path)\n",
    "            count += 1 "
   ]
  },
  {
   "cell_type": "code",
   "execution_count": 28,
   "metadata": {},
   "outputs": [
    {
     "data": {
      "text/plain": [
       "'f:\\\\Programming\\\\Python\\\\ML_New\\\\image classification'"
      ]
     },
     "execution_count": 28,
     "metadata": {},
     "output_type": "execute_result"
    }
   ],
   "source": [
    "os.getcwd()"
   ]
  },
  {
   "cell_type": "code",
   "execution_count": 29,
   "metadata": {},
   "outputs": [],
   "source": [
    "os.chdir(\"./cropped/\")"
   ]
  },
  {
   "cell_type": "code",
   "execution_count": 40,
   "metadata": {},
   "outputs": [
    {
     "data": {
      "text/plain": [
       "['lionel_messi',\n",
       " 'maria_sharapova',\n",
       " 'roger_federer',\n",
       " 'serena_williams',\n",
       " 'virat_kohli']"
      ]
     },
     "execution_count": 40,
     "metadata": {},
     "output_type": "execute_result"
    }
   ],
   "source": [
    "img_dirs = [i for i in os.listdir()]\n",
    "img_dirs"
   ]
  },
  {
   "cell_type": "code",
   "execution_count": 41,
   "metadata": {},
   "outputs": [
    {
     "data": {
      "text/plain": [
       "{'lionel_messi': ['lionel_messi\\\\lionel_messi1.png',\n",
       "  'lionel_messi\\\\lionel_messi10.png',\n",
       "  'lionel_messi\\\\lionel_messi11.png',\n",
       "  'lionel_messi\\\\lionel_messi13.png',\n",
       "  'lionel_messi\\\\lionel_messi14.png',\n",
       "  'lionel_messi\\\\lionel_messi15.png',\n",
       "  'lionel_messi\\\\lionel_messi16.png',\n",
       "  'lionel_messi\\\\lionel_messi17.png',\n",
       "  'lionel_messi\\\\lionel_messi18.png',\n",
       "  'lionel_messi\\\\lionel_messi19.png',\n",
       "  'lionel_messi\\\\lionel_messi2.png',\n",
       "  'lionel_messi\\\\lionel_messi20.png',\n",
       "  'lionel_messi\\\\lionel_messi22.png',\n",
       "  'lionel_messi\\\\lionel_messi23.png',\n",
       "  'lionel_messi\\\\lionel_messi24.png',\n",
       "  'lionel_messi\\\\lionel_messi25.png',\n",
       "  'lionel_messi\\\\lionel_messi26.png',\n",
       "  'lionel_messi\\\\lionel_messi27.png',\n",
       "  'lionel_messi\\\\lionel_messi28.png',\n",
       "  'lionel_messi\\\\lionel_messi29.png',\n",
       "  'lionel_messi\\\\lionel_messi3.png',\n",
       "  'lionel_messi\\\\lionel_messi30.png',\n",
       "  'lionel_messi\\\\lionel_messi32.png',\n",
       "  'lionel_messi\\\\lionel_messi33.png',\n",
       "  'lionel_messi\\\\lionel_messi34.png',\n",
       "  'lionel_messi\\\\lionel_messi35.png',\n",
       "  'lionel_messi\\\\lionel_messi36.png',\n",
       "  'lionel_messi\\\\lionel_messi37.png',\n",
       "  'lionel_messi\\\\lionel_messi38.png',\n",
       "  'lionel_messi\\\\lionel_messi39.png',\n",
       "  'lionel_messi\\\\lionel_messi4.png',\n",
       "  'lionel_messi\\\\lionel_messi5.png',\n",
       "  'lionel_messi\\\\lionel_messi6.png',\n",
       "  'lionel_messi\\\\lionel_messi7.png',\n",
       "  'lionel_messi\\\\lionel_messi8.png',\n",
       "  'lionel_messi\\\\lionel_messi9.png'],\n",
       " 'maria_sharapova': ['maria_sharapova\\\\maria_sharapova1.png',\n",
       "  'maria_sharapova\\\\maria_sharapova10.png',\n",
       "  'maria_sharapova\\\\maria_sharapova11.png',\n",
       "  'maria_sharapova\\\\maria_sharapova12.png',\n",
       "  'maria_sharapova\\\\maria_sharapova13.png',\n",
       "  'maria_sharapova\\\\maria_sharapova14.png',\n",
       "  'maria_sharapova\\\\maria_sharapova15.png',\n",
       "  'maria_sharapova\\\\maria_sharapova16.png',\n",
       "  'maria_sharapova\\\\maria_sharapova17.png',\n",
       "  'maria_sharapova\\\\maria_sharapova18.png',\n",
       "  'maria_sharapova\\\\maria_sharapova19.png',\n",
       "  'maria_sharapova\\\\maria_sharapova2.png',\n",
       "  'maria_sharapova\\\\maria_sharapova20.png',\n",
       "  'maria_sharapova\\\\maria_sharapova21.png',\n",
       "  'maria_sharapova\\\\maria_sharapova22.png',\n",
       "  'maria_sharapova\\\\maria_sharapova23.png',\n",
       "  'maria_sharapova\\\\maria_sharapova24.png',\n",
       "  'maria_sharapova\\\\maria_sharapova25.png',\n",
       "  'maria_sharapova\\\\maria_sharapova26.png',\n",
       "  'maria_sharapova\\\\maria_sharapova27.png',\n",
       "  'maria_sharapova\\\\maria_sharapova28.png',\n",
       "  'maria_sharapova\\\\maria_sharapova29.png',\n",
       "  'maria_sharapova\\\\maria_sharapova30.png',\n",
       "  'maria_sharapova\\\\maria_sharapova31.png',\n",
       "  'maria_sharapova\\\\maria_sharapova32.png',\n",
       "  'maria_sharapova\\\\maria_sharapova33.png',\n",
       "  'maria_sharapova\\\\maria_sharapova34.png',\n",
       "  'maria_sharapova\\\\maria_sharapova35.png',\n",
       "  'maria_sharapova\\\\maria_sharapova4.png',\n",
       "  'maria_sharapova\\\\maria_sharapova5.png',\n",
       "  'maria_sharapova\\\\maria_sharapova6.png',\n",
       "  'maria_sharapova\\\\maria_sharapova7.png',\n",
       "  'maria_sharapova\\\\maria_sharapova8.png',\n",
       "  'maria_sharapova\\\\maria_sharapova9.png'],\n",
       " 'roger_federer': ['roger_federer\\\\roger_federer1.png',\n",
       "  'roger_federer\\\\roger_federer10.png',\n",
       "  'roger_federer\\\\roger_federer11.png',\n",
       "  'roger_federer\\\\roger_federer12.png',\n",
       "  'roger_federer\\\\roger_federer13.png',\n",
       "  'roger_federer\\\\roger_federer14.png',\n",
       "  'roger_federer\\\\roger_federer15.png',\n",
       "  'roger_federer\\\\roger_federer16.png',\n",
       "  'roger_federer\\\\roger_federer17.png',\n",
       "  'roger_federer\\\\roger_federer18.png',\n",
       "  'roger_federer\\\\roger_federer19.png',\n",
       "  'roger_federer\\\\roger_federer2.png',\n",
       "  'roger_federer\\\\roger_federer20.png',\n",
       "  'roger_federer\\\\roger_federer21.png',\n",
       "  'roger_federer\\\\roger_federer22.png',\n",
       "  'roger_federer\\\\roger_federer23.png',\n",
       "  'roger_federer\\\\roger_federer24.png',\n",
       "  'roger_federer\\\\roger_federer25.png',\n",
       "  'roger_federer\\\\roger_federer28.png',\n",
       "  'roger_federer\\\\roger_federer29.png',\n",
       "  'roger_federer\\\\roger_federer3.png',\n",
       "  'roger_federer\\\\roger_federer30.png',\n",
       "  'roger_federer\\\\roger_federer4.png',\n",
       "  'roger_federer\\\\roger_federer5.png',\n",
       "  'roger_federer\\\\roger_federer6.png',\n",
       "  'roger_federer\\\\roger_federer7.png',\n",
       "  'roger_federer\\\\roger_federer8.png',\n",
       "  'roger_federer\\\\roger_federer9.png'],\n",
       " 'serena_williams': ['serena_williams\\\\serena_williams10.png',\n",
       "  'serena_williams\\\\serena_williams11.png',\n",
       "  'serena_williams\\\\serena_williams12.png',\n",
       "  'serena_williams\\\\serena_williams13.png',\n",
       "  'serena_williams\\\\serena_williams14.png',\n",
       "  'serena_williams\\\\serena_williams15.png',\n",
       "  'serena_williams\\\\serena_williams16.png',\n",
       "  'serena_williams\\\\serena_williams17.png',\n",
       "  'serena_williams\\\\serena_williams18.png',\n",
       "  'serena_williams\\\\serena_williams2.png',\n",
       "  'serena_williams\\\\serena_williams20.png',\n",
       "  'serena_williams\\\\serena_williams22.png',\n",
       "  'serena_williams\\\\serena_williams23.png',\n",
       "  'serena_williams\\\\serena_williams24.png',\n",
       "  'serena_williams\\\\serena_williams26.png',\n",
       "  'serena_williams\\\\serena_williams27.png',\n",
       "  'serena_williams\\\\serena_williams28.png',\n",
       "  'serena_williams\\\\serena_williams29.png',\n",
       "  'serena_williams\\\\serena_williams3.png',\n",
       "  'serena_williams\\\\serena_williams30.png',\n",
       "  'serena_williams\\\\serena_williams31.png',\n",
       "  'serena_williams\\\\serena_williams32.png',\n",
       "  'serena_williams\\\\serena_williams34.png',\n",
       "  'serena_williams\\\\serena_williams35.png',\n",
       "  'serena_williams\\\\serena_williams4.png',\n",
       "  'serena_williams\\\\serena_williams6.png',\n",
       "  'serena_williams\\\\serena_williams7.png',\n",
       "  'serena_williams\\\\serena_williams8.png',\n",
       "  'serena_williams\\\\serena_williams9.png'],\n",
       " 'virat_kohli': ['virat_kohli\\\\virat_kohli1.png',\n",
       "  'virat_kohli\\\\virat_kohli10.png',\n",
       "  'virat_kohli\\\\virat_kohli11.png',\n",
       "  'virat_kohli\\\\virat_kohli12.png',\n",
       "  'virat_kohli\\\\virat_kohli13.png',\n",
       "  'virat_kohli\\\\virat_kohli14.png',\n",
       "  'virat_kohli\\\\virat_kohli15.png',\n",
       "  'virat_kohli\\\\virat_kohli16.png',\n",
       "  'virat_kohli\\\\virat_kohli17.png',\n",
       "  'virat_kohli\\\\virat_kohli18.png',\n",
       "  'virat_kohli\\\\virat_kohli19.png',\n",
       "  'virat_kohli\\\\virat_kohli2.png',\n",
       "  'virat_kohli\\\\virat_kohli20.png',\n",
       "  'virat_kohli\\\\virat_kohli21.png',\n",
       "  'virat_kohli\\\\virat_kohli23.png',\n",
       "  'virat_kohli\\\\virat_kohli25.png',\n",
       "  'virat_kohli\\\\virat_kohli26.png',\n",
       "  'virat_kohli\\\\virat_kohli27.png',\n",
       "  'virat_kohli\\\\virat_kohli28.png',\n",
       "  'virat_kohli\\\\virat_kohli30.png',\n",
       "  'virat_kohli\\\\virat_kohli31.png',\n",
       "  'virat_kohli\\\\virat_kohli32.png',\n",
       "  'virat_kohli\\\\virat_kohli33.png',\n",
       "  'virat_kohli\\\\virat_kohli34.png',\n",
       "  'virat_kohli\\\\virat_kohli35.png',\n",
       "  'virat_kohli\\\\virat_kohli36.png',\n",
       "  'virat_kohli\\\\virat_kohli37.png',\n",
       "  'virat_kohli\\\\virat_kohli38.png',\n",
       "  'virat_kohli\\\\virat_kohli4.png',\n",
       "  'virat_kohli\\\\virat_kohli40.png',\n",
       "  'virat_kohli\\\\virat_kohli41.png',\n",
       "  'virat_kohli\\\\virat_kohli42.png',\n",
       "  'virat_kohli\\\\virat_kohli44.png',\n",
       "  'virat_kohli\\\\virat_kohli45.png',\n",
       "  'virat_kohli\\\\virat_kohli47.png',\n",
       "  'virat_kohli\\\\virat_kohli48.png',\n",
       "  'virat_kohli\\\\virat_kohli5.png',\n",
       "  'virat_kohli\\\\virat_kohli6.png',\n",
       "  'virat_kohli\\\\virat_kohli7.png',\n",
       "  'virat_kohli\\\\virat_kohli8.png',\n",
       "  'virat_kohli\\\\virat_kohli9.png']}"
      ]
     },
     "execution_count": 41,
     "metadata": {},
     "output_type": "execute_result"
    }
   ],
   "source": [
    "### Feature Engineering\n",
    "\n",
    "celebrity_file_names_dict = {}\n",
    "for img_dir in img_dirs:\n",
    "    celebrity_name = img_dir\n",
    "    file_list = []\n",
    "    for entry in os.scandir(img_dir):\n",
    "        file_list.append(entry.path)\n",
    "    celebrity_file_names_dict[celebrity_name] = file_list\n",
    "celebrity_file_names_dict"
   ]
  },
  {
   "cell_type": "code",
   "execution_count": 42,
   "metadata": {},
   "outputs": [
    {
     "data": {
      "text/plain": [
       "{'lionel_messi': 0,\n",
       " 'maria_sharapova': 1,\n",
       " 'roger_federer': 2,\n",
       " 'serena_williams': 3,\n",
       " 'virat_kohli': 4}"
      ]
     },
     "execution_count": 42,
     "metadata": {},
     "output_type": "execute_result"
    }
   ],
   "source": [
    "class_dict = {}\n",
    "count = 0\n",
    "for celebrity_name in celebrity_file_names_dict.keys():\n",
    "    class_dict[celebrity_name] = count\n",
    "    count = count + 1\n",
    "class_dict"
   ]
  },
  {
   "cell_type": "code",
   "execution_count": 47,
   "metadata": {},
   "outputs": [
    {
     "name": "stdout",
     "output_type": "stream",
     "text": [
      "Collecting PyWavelets\n",
      "  Downloading pywavelets-1.5.0-cp39-cp39-win_amd64.whl.metadata (9.0 kB)\n",
      "Requirement already satisfied: numpy<2.0,>=1.22.4 in c:\\users\\veera\\anaconda3\\envs\\tf\\lib\\site-packages (from PyWavelets) (1.26.1)\n",
      "Downloading pywavelets-1.5.0-cp39-cp39-win_amd64.whl (4.3 MB)\n",
      "   ---------------------------------------- 0.0/4.3 MB ? eta -:--:--\n",
      "   ---------------------------------------- 0.0/4.3 MB ? eta -:--:--\n",
      "   ---------------------------------------- 0.1/4.3 MB 525.1 kB/s eta 0:00:09\n",
      "    --------------------------------------- 0.1/4.3 MB 656.4 kB/s eta 0:00:07\n",
      "    --------------------------------------- 0.1/4.3 MB 656.4 kB/s eta 0:00:07\n",
      "   - -------------------------------------- 0.1/4.3 MB 554.9 kB/s eta 0:00:08\n",
      "   - -------------------------------------- 0.1/4.3 MB 554.9 kB/s eta 0:00:08\n",
      "   - -------------------------------------- 0.2/4.3 MB 546.6 kB/s eta 0:00:08\n",
      "   -- ------------------------------------- 0.2/4.3 MB 599.0 kB/s eta 0:00:07\n",
      "   -- ------------------------------------- 0.3/4.3 MB 655.4 kB/s eta 0:00:07\n",
      "   -- ------------------------------------- 0.3/4.3 MB 655.4 kB/s eta 0:00:07\n",
      "   -- ------------------------------------- 0.3/4.3 MB 655.4 kB/s eta 0:00:07\n",
      "   -- ------------------------------------- 0.3/4.3 MB 655.4 kB/s eta 0:00:07\n",
      "   -- ------------------------------------- 0.3/4.3 MB 492.0 kB/s eta 0:00:09\n",
      "   --- ------------------------------------ 0.4/4.3 MB 672.6 kB/s eta 0:00:06\n",
      "   --- ------------------------------------ 0.4/4.3 MB 672.6 kB/s eta 0:00:06\n",
      "   ---- ----------------------------------- 0.5/4.3 MB 684.6 kB/s eta 0:00:06\n",
      "   ---- ----------------------------------- 0.5/4.3 MB 669.3 kB/s eta 0:00:06\n",
      "   ----- ---------------------------------- 0.6/4.3 MB 694.9 kB/s eta 0:00:06\n",
      "   ----- ---------------------------------- 0.6/4.3 MB 679.5 kB/s eta 0:00:06\n",
      "   ------ --------------------------------- 0.6/4.3 MB 700.8 kB/s eta 0:00:06\n",
      "   ------ --------------------------------- 0.6/4.3 MB 700.8 kB/s eta 0:00:06\n",
      "   ------ --------------------------------- 0.7/4.3 MB 696.3 kB/s eta 0:00:06\n",
      "   ------- -------------------------------- 0.7/4.3 MB 704.2 kB/s eta 0:00:05\n",
      "   ------- -------------------------------- 0.8/4.3 MB 711.4 kB/s eta 0:00:05\n",
      "   ------- -------------------------------- 0.8/4.3 MB 711.4 kB/s eta 0:00:05\n",
      "   ------- -------------------------------- 0.8/4.3 MB 707.4 kB/s eta 0:00:05\n",
      "   -------- ------------------------------- 0.9/4.3 MB 715.0 kB/s eta 0:00:05\n",
      "   -------- ------------------------------- 0.9/4.3 MB 719.4 kB/s eta 0:00:05\n",
      "   --------- ------------------------------ 1.0/4.3 MB 717.1 kB/s eta 0:00:05\n",
      "   --------- ------------------------------ 1.0/4.3 MB 739.0 kB/s eta 0:00:05\n",
      "   ---------- ----------------------------- 1.1/4.3 MB 750.2 kB/s eta 0:00:05\n",
      "   ---------- ----------------------------- 1.1/4.3 MB 750.2 kB/s eta 0:00:05\n",
      "   ---------- ----------------------------- 1.1/4.3 MB 750.3 kB/s eta 0:00:05\n",
      "   ----------- ---------------------------- 1.2/4.3 MB 747.3 kB/s eta 0:00:05\n",
      "   ----------- ---------------------------- 1.2/4.3 MB 764.5 kB/s eta 0:00:04\n",
      "   ----------- ---------------------------- 1.2/4.3 MB 764.5 kB/s eta 0:00:04\n",
      "   ------------ --------------------------- 1.3/4.3 MB 763.6 kB/s eta 0:00:04\n",
      "   ------------ --------------------------- 1.3/4.3 MB 763.6 kB/s eta 0:00:04\n",
      "   ------------ --------------------------- 1.3/4.3 MB 748.4 kB/s eta 0:00:04\n",
      "   ------------ --------------------------- 1.3/4.3 MB 748.4 kB/s eta 0:00:04\n",
      "   ------------- -------------------------- 1.4/4.3 MB 754.6 kB/s eta 0:00:04\n",
      "   ------------- -------------------------- 1.5/4.3 MB 751.2 kB/s eta 0:00:04\n",
      "   ------------- -------------------------- 1.5/4.3 MB 751.2 kB/s eta 0:00:04\n",
      "   -------------- ------------------------- 1.5/4.3 MB 756.3 kB/s eta 0:00:04\n",
      "   -------------- ------------------------- 1.6/4.3 MB 749.0 kB/s eta 0:00:04\n",
      "   -------------- ------------------------- 1.6/4.3 MB 749.0 kB/s eta 0:00:04\n",
      "   -------------- ------------------------- 1.6/4.3 MB 749.0 kB/s eta 0:00:04\n",
      "   --------------- ------------------------ 1.6/4.3 MB 735.1 kB/s eta 0:00:04\n",
      "   --------------- ------------------------ 1.7/4.3 MB 727.9 kB/s eta 0:00:04\n",
      "   --------------- ------------------------ 1.7/4.3 MB 740.7 kB/s eta 0:00:04\n",
      "   ---------------- ----------------------- 1.8/4.3 MB 742.3 kB/s eta 0:00:04\n",
      "   ---------------- ----------------------- 1.8/4.3 MB 742.3 kB/s eta 0:00:04\n",
      "   ----------------- ---------------------- 1.8/4.3 MB 734.7 kB/s eta 0:00:04\n",
      "   ----------------- ---------------------- 1.9/4.3 MB 750.7 kB/s eta 0:00:04\n",
      "   ----------------- ---------------------- 1.9/4.3 MB 748.5 kB/s eta 0:00:04\n",
      "   ----------------- ---------------------- 1.9/4.3 MB 748.5 kB/s eta 0:00:04\n",
      "   ------------------ --------------------- 2.0/4.3 MB 760.7 kB/s eta 0:00:03\n",
      "   ------------------ --------------------- 2.0/4.3 MB 760.7 kB/s eta 0:00:03\n",
      "   ------------------- -------------------- 2.1/4.3 MB 761.5 kB/s eta 0:00:03\n",
      "   -------------------- ------------------- 2.1/4.3 MB 765.9 kB/s eta 0:00:03\n",
      "   -------------------- ------------------- 2.2/4.3 MB 772.5 kB/s eta 0:00:03\n",
      "   -------------------- ------------------- 2.2/4.3 MB 766.9 kB/s eta 0:00:03\n",
      "   -------------------- ------------------- 2.2/4.3 MB 766.9 kB/s eta 0:00:03\n",
      "   --------------------- ------------------ 2.3/4.3 MB 769.8 kB/s eta 0:00:03\n",
      "   --------------------- ------------------ 2.3/4.3 MB 760.8 kB/s eta 0:00:03\n",
      "   --------------------- ------------------ 2.3/4.3 MB 760.8 kB/s eta 0:00:03\n",
      "   --------------------- ------------------ 2.3/4.3 MB 760.8 kB/s eta 0:00:03\n",
      "   ---------------------- ----------------- 2.4/4.3 MB 750.1 kB/s eta 0:00:03\n",
      "   ---------------------- ----------------- 2.4/4.3 MB 750.1 kB/s eta 0:00:03\n",
      "   ---------------------- ----------------- 2.4/4.3 MB 750.1 kB/s eta 0:00:03\n",
      "   ----------------------- ---------------- 2.5/4.3 MB 752.7 kB/s eta 0:00:03\n",
      "   ----------------------- ---------------- 2.5/4.3 MB 752.7 kB/s eta 0:00:03\n",
      "   ----------------------- ---------------- 2.5/4.3 MB 752.7 kB/s eta 0:00:03\n",
      "   ----------------------- ---------------- 2.5/4.3 MB 752.7 kB/s eta 0:00:03\n",
      "   ----------------------- ---------------- 2.5/4.3 MB 752.7 kB/s eta 0:00:03\n",
      "   ----------------------- ---------------- 2.5/4.3 MB 752.7 kB/s eta 0:00:03\n",
      "   ------------------------ --------------- 2.6/4.3 MB 715.8 kB/s eta 0:00:03\n",
      "   ------------------------ --------------- 2.6/4.3 MB 715.8 kB/s eta 0:00:03\n",
      "   ------------------------ --------------- 2.6/4.3 MB 715.8 kB/s eta 0:00:03\n",
      "   ------------------------ --------------- 2.6/4.3 MB 696.6 kB/s eta 0:00:03\n",
      "   ------------------------ --------------- 2.6/4.3 MB 696.6 kB/s eta 0:00:03\n",
      "   ------------------------- -------------- 2.7/4.3 MB 698.5 kB/s eta 0:00:03\n",
      "   ------------------------- -------------- 2.7/4.3 MB 698.5 kB/s eta 0:00:03\n",
      "   ------------------------- -------------- 2.7/4.3 MB 698.5 kB/s eta 0:00:03\n",
      "   ------------------------- -------------- 2.7/4.3 MB 698.5 kB/s eta 0:00:03\n",
      "   ------------------------- -------------- 2.7/4.3 MB 698.5 kB/s eta 0:00:03\n",
      "   ------------------------- -------------- 2.7/4.3 MB 698.5 kB/s eta 0:00:03\n",
      "   ------------------------- -------------- 2.7/4.3 MB 698.5 kB/s eta 0:00:03\n",
      "   ------------------------- -------------- 2.7/4.3 MB 698.5 kB/s eta 0:00:03\n",
      "   ------------------------- -------------- 2.7/4.3 MB 698.5 kB/s eta 0:00:03\n",
      "   ------------------------- -------------- 2.7/4.3 MB 698.5 kB/s eta 0:00:03\n",
      "   ------------------------- -------------- 2.7/4.3 MB 698.5 kB/s eta 0:00:03\n",
      "   ------------------------- -------------- 2.7/4.3 MB 698.5 kB/s eta 0:00:03\n",
      "   ------------------------- -------------- 2.7/4.3 MB 698.5 kB/s eta 0:00:03\n",
      "   -------------------------- ------------- 2.8/4.3 MB 625.2 kB/s eta 0:00:03\n",
      "   -------------------------- ------------- 2.8/4.3 MB 625.2 kB/s eta 0:00:03\n",
      "   -------------------------- ------------- 2.8/4.3 MB 625.2 kB/s eta 0:00:03\n",
      "   -------------------------- ------------- 2.8/4.3 MB 617.0 kB/s eta 0:00:03\n",
      "   -------------------------- ------------- 2.8/4.3 MB 613.0 kB/s eta 0:00:03\n",
      "   -------------------------- ------------- 2.8/4.3 MB 613.0 kB/s eta 0:00:03\n",
      "   --------------------------- ------------ 2.9/4.3 MB 613.9 kB/s eta 0:00:03\n",
      "   --------------------------- ------------ 2.9/4.3 MB 614.4 kB/s eta 0:00:03\n",
      "   ---------------------------- ----------- 3.0/4.3 MB 623.3 kB/s eta 0:00:03\n",
      "   ---------------------------- ----------- 3.0/4.3 MB 623.3 kB/s eta 0:00:03\n",
      "   ---------------------------- ----------- 3.1/4.3 MB 628.0 kB/s eta 0:00:02\n",
      "   ---------------------------- ----------- 3.1/4.3 MB 628.0 kB/s eta 0:00:02\n",
      "   ---------------------------- ----------- 3.1/4.3 MB 628.0 kB/s eta 0:00:02\n",
      "   ---------------------------- ----------- 3.1/4.3 MB 628.0 kB/s eta 0:00:02\n",
      "   ---------------------------- ----------- 3.1/4.3 MB 628.0 kB/s eta 0:00:02\n",
      "   ---------------------------- ----------- 3.1/4.3 MB 628.0 kB/s eta 0:00:02\n",
      "   ---------------------------- ----------- 3.1/4.3 MB 628.0 kB/s eta 0:00:02\n",
      "   ---------------------------- ----------- 3.1/4.3 MB 628.0 kB/s eta 0:00:02\n",
      "   ---------------------------- ----------- 3.1/4.3 MB 628.0 kB/s eta 0:00:02\n",
      "   ---------------------------- ----------- 3.1/4.3 MB 628.0 kB/s eta 0:00:02\n",
      "   ---------------------------- ----------- 3.1/4.3 MB 628.0 kB/s eta 0:00:02\n",
      "   ---------------------------- ----------- 3.1/4.3 MB 628.0 kB/s eta 0:00:02\n",
      "   ---------------------------- ----------- 3.1/4.3 MB 628.0 kB/s eta 0:00:02\n",
      "   ---------------------------- ----------- 3.1/4.3 MB 628.0 kB/s eta 0:00:02\n",
      "   ---------------------------- ----------- 3.1/4.3 MB 628.0 kB/s eta 0:00:02\n",
      "   ---------------------------- ----------- 3.1/4.3 MB 628.0 kB/s eta 0:00:02\n",
      "   ---------------------------- ----------- 3.1/4.3 MB 628.0 kB/s eta 0:00:02\n",
      "   ---------------------------- ----------- 3.1/4.3 MB 628.0 kB/s eta 0:00:02\n",
      "   ---------------------------- ----------- 3.1/4.3 MB 628.0 kB/s eta 0:00:02\n",
      "   ---------------------------- ----------- 3.1/4.3 MB 628.0 kB/s eta 0:00:02\n",
      "   ----------------------------- ---------- 3.1/4.3 MB 533.2 kB/s eta 0:00:03\n",
      "   ------------------------------ --------- 3.2/4.3 MB 546.4 kB/s eta 0:00:02\n",
      "   ------------------------------ --------- 3.2/4.3 MB 546.4 kB/s eta 0:00:02\n",
      "   ------------------------------ --------- 3.2/4.3 MB 541.8 kB/s eta 0:00:02\n",
      "   ------------------------------ --------- 3.2/4.3 MB 541.8 kB/s eta 0:00:02\n",
      "   ------------------------------ --------- 3.3/4.3 MB 541.6 kB/s eta 0:00:02\n",
      "   ------------------------------ --------- 3.3/4.3 MB 541.6 kB/s eta 0:00:02\n",
      "   ------------------------------- -------- 3.3/4.3 MB 541.4 kB/s eta 0:00:02\n",
      "   ------------------------------- -------- 3.4/4.3 MB 541.2 kB/s eta 0:00:02\n",
      "   ------------------------------- -------- 3.4/4.3 MB 541.5 kB/s eta 0:00:02\n",
      "   -------------------------------- ------- 3.4/4.3 MB 542.9 kB/s eta 0:00:02\n",
      "   -------------------------------- ------- 3.4/4.3 MB 542.9 kB/s eta 0:00:02\n",
      "   -------------------------------- ------- 3.5/4.3 MB 539.7 kB/s eta 0:00:02\n",
      "   -------------------------------- ------- 3.5/4.3 MB 540.5 kB/s eta 0:00:02\n",
      "   --------------------------------- ------ 3.5/4.3 MB 545.6 kB/s eta 0:00:02\n",
      "   --------------------------------- ------ 3.5/4.3 MB 545.6 kB/s eta 0:00:02\n",
      "   --------------------------------- ------ 3.6/4.3 MB 545.9 kB/s eta 0:00:02\n",
      "   --------------------------------- ------ 3.6/4.3 MB 545.9 kB/s eta 0:00:02\n",
      "   ---------------------------------- ----- 3.6/4.3 MB 545.9 kB/s eta 0:00:02\n",
      "   ---------------------------------- ----- 3.6/4.3 MB 545.9 kB/s eta 0:00:02\n",
      "   ---------------------------------- ----- 3.7/4.3 MB 547.1 kB/s eta 0:00:02\n",
      "   ----------------------------------- ---- 3.7/4.3 MB 548.4 kB/s eta 0:00:01\n",
      "   ----------------------------------- ---- 3.8/4.3 MB 550.2 kB/s eta 0:00:01\n",
      "   ----------------------------------- ---- 3.8/4.3 MB 552.6 kB/s eta 0:00:01\n",
      "   ----------------------------------- ---- 3.8/4.3 MB 552.6 kB/s eta 0:00:01\n",
      "   ------------------------------------ --- 3.9/4.3 MB 554.0 kB/s eta 0:00:01\n",
      "   ------------------------------------ --- 3.9/4.3 MB 554.0 kB/s eta 0:00:01\n",
      "   ------------------------------------ --- 3.9/4.3 MB 556.3 kB/s eta 0:00:01\n",
      "   ------------------------------------- -- 4.0/4.3 MB 557.6 kB/s eta 0:00:01\n",
      "   ------------------------------------- -- 4.0/4.3 MB 557.6 kB/s eta 0:00:01\n",
      "   ------------------------------------- -- 4.0/4.3 MB 558.7 kB/s eta 0:00:01\n",
      "   ------------------------------------- -- 4.0/4.3 MB 558.7 kB/s eta 0:00:01\n",
      "   -------------------------------------- - 4.1/4.3 MB 562.6 kB/s eta 0:00:01\n",
      "   -------------------------------------- - 4.1/4.3 MB 562.2 kB/s eta 0:00:01\n",
      "   -------------------------------------- - 4.1/4.3 MB 562.2 kB/s eta 0:00:01\n",
      "   ---------------------------------------  4.2/4.3 MB 565.9 kB/s eta 0:00:01\n",
      "   ---------------------------------------  4.2/4.3 MB 565.9 kB/s eta 0:00:01\n",
      "   ---------------------------------------- 4.3/4.3 MB 563.8 kB/s eta 0:00:00\n",
      "Installing collected packages: PyWavelets\n",
      "Successfully installed PyWavelets-1.5.0\n"
     ]
    }
   ],
   "source": [
    "!pip install PyWavelets"
   ]
  },
  {
   "cell_type": "code",
   "execution_count": 48,
   "metadata": {},
   "outputs": [],
   "source": [
    "import pywt\n",
    "\n",
    "\n",
    "def w2d(img, mode='haar', level=1):\n",
    "    imArray = img\n",
    "    #Datatype conversions\n",
    "    #convert to grayscale\n",
    "    imArray = cv2.cvtColor( imArray,cv2.COLOR_RGB2GRAY )\n",
    "    #convert to float\n",
    "    imArray =  np.float32(imArray)   \n",
    "    imArray /= 255\n",
    "    # compute coefficients \n",
    "    coeffs=pywt.wavedec2(imArray, mode, level=level)\n",
    "\n",
    "    #Process Coefficients\n",
    "    coeffs_H=list(coeffs)  \n",
    "    coeffs_H[0] *= 0;  \n",
    "\n",
    "    # reconstruction\n",
    "    imArray_H=pywt.waverec2(coeffs_H, mode);\n",
    "    imArray_H *= 255;\n",
    "    imArray_H =  np.uint8(imArray_H)\n",
    "\n",
    "    return imArray_H"
   ]
  },
  {
   "cell_type": "code",
   "execution_count": 49,
   "metadata": {},
   "outputs": [],
   "source": [
    "X, y = [], []\n",
    "for celebrity_name, training_files in celebrity_file_names_dict.items():\n",
    "    for training_image in training_files:\n",
    "        img = cv2.imread(training_image)\n",
    "        scalled_raw_img = cv2.resize(img, (32, 32))\n",
    "        img_har = w2d(img,'db1',5)\n",
    "        scalled_img_har = cv2.resize(img_har, (32, 32))\n",
    "        combined_img = np.vstack((scalled_raw_img.reshape(32*32*3,1),scalled_img_har.reshape(32*32,1)))\n",
    "        X.append(combined_img)\n",
    "        y.append(class_dict[celebrity_name])  "
   ]
  },
  {
   "cell_type": "code",
   "execution_count": 50,
   "metadata": {},
   "outputs": [
    {
     "data": {
      "text/plain": [
       "4096"
      ]
     },
     "execution_count": 50,
     "metadata": {},
     "output_type": "execute_result"
    }
   ],
   "source": [
    "len(X[0])"
   ]
  },
  {
   "cell_type": "code",
   "execution_count": 51,
   "metadata": {},
   "outputs": [
    {
     "data": {
      "text/plain": [
       "(168, 4096)"
      ]
     },
     "execution_count": 51,
     "metadata": {},
     "output_type": "execute_result"
    }
   ],
   "source": [
    "\n",
    "X = np.array(X).reshape(len(X),4096).astype(float)\n",
    "X.shape"
   ]
  },
  {
   "cell_type": "code",
   "execution_count": 53,
   "metadata": {},
   "outputs": [],
   "source": [
    "### Model training\n",
    "\n",
    "from sklearn.svm import SVC\n",
    "from sklearn.preprocessing import StandardScaler\n",
    "from sklearn.model_selection import train_test_split\n",
    "from sklearn.pipeline import Pipeline\n",
    "from sklearn.metrics import classification_report"
   ]
  },
  {
   "cell_type": "code",
   "execution_count": 61,
   "metadata": {},
   "outputs": [
    {
     "data": {
      "text/plain": [
       "0.8333333333333334"
      ]
     },
     "execution_count": 61,
     "metadata": {},
     "output_type": "execute_result"
    }
   ],
   "source": [
    "X_train, X_test, Y_train, Y_test = train_test_split(\n",
    "    X, y, random_state=42, shuffle=True, train_size=0.75\n",
    ")\n",
    "\n",
    "pipe = Pipeline([('scaler', StandardScaler()), ('svc', SVC(kernel = 'rbf', C = 10))])\n",
    "pipe.fit(X_train, Y_train)\n",
    "pipe.score(X_test, Y_test)"
   ]
  },
  {
   "cell_type": "code",
   "execution_count": 62,
   "metadata": {},
   "outputs": [],
   "source": [
    "### Use GridSearch to find the best model\n",
    "\n",
    "from sklearn import svm\n",
    "from sklearn.ensemble import RandomForestClassifier\n",
    "from sklearn.linear_model import LogisticRegression\n",
    "from sklearn.pipeline import make_pipeline\n",
    "from sklearn.model_selection import GridSearchCV"
   ]
  },
  {
   "cell_type": "code",
   "execution_count": 63,
   "metadata": {},
   "outputs": [],
   "source": [
    "model_params = {\n",
    "    'svm': {\n",
    "        'model': svm.SVC(gamma='auto',probability=True),\n",
    "        'params' : {\n",
    "            'svc__C': [1,10,100,1000],\n",
    "            'svc__kernel': ['rbf','linear']\n",
    "        }  \n",
    "    },\n",
    "    'random_forest': {\n",
    "        'model': RandomForestClassifier(),\n",
    "        'params' : {\n",
    "            'randomforestclassifier__n_estimators': [1,5,10]\n",
    "        }\n",
    "    },\n",
    "    'logistic_regression' : {\n",
    "        'model': LogisticRegression(solver='liblinear',multi_class='auto'),\n",
    "        'params': {\n",
    "            'logisticregression__C': [1,5,10]\n",
    "        }\n",
    "    }\n",
    "}"
   ]
  },
  {
   "cell_type": "code",
   "execution_count": 65,
   "metadata": {},
   "outputs": [
    {
     "name": "stdout",
     "output_type": "stream",
     "text": [
      "Training completed for: svm\n",
      "Training completed for: random_forest\n",
      "Training completed for: logistic_regression\n"
     ]
    },
    {
     "data": {
      "text/html": [
       "<div>\n",
       "<style scoped>\n",
       "    .dataframe tbody tr th:only-of-type {\n",
       "        vertical-align: middle;\n",
       "    }\n",
       "\n",
       "    .dataframe tbody tr th {\n",
       "        vertical-align: top;\n",
       "    }\n",
       "\n",
       "    .dataframe thead th {\n",
       "        text-align: right;\n",
       "    }\n",
       "</style>\n",
       "<table border=\"1\" class=\"dataframe\">\n",
       "  <thead>\n",
       "    <tr style=\"text-align: right;\">\n",
       "      <th></th>\n",
       "      <th>model</th>\n",
       "      <th>best_score</th>\n",
       "      <th>best_params</th>\n",
       "    </tr>\n",
       "  </thead>\n",
       "  <tbody>\n",
       "    <tr>\n",
       "      <th>0</th>\n",
       "      <td>svm</td>\n",
       "      <td>0.889231</td>\n",
       "      <td>{'svc__C': 1, 'svc__kernel': 'linear'}</td>\n",
       "    </tr>\n",
       "    <tr>\n",
       "      <th>1</th>\n",
       "      <td>random_forest</td>\n",
       "      <td>0.737846</td>\n",
       "      <td>{'randomforestclassifier__n_estimators': 10}</td>\n",
       "    </tr>\n",
       "    <tr>\n",
       "      <th>2</th>\n",
       "      <td>logistic_regression</td>\n",
       "      <td>0.904923</td>\n",
       "      <td>{'logisticregression__C': 1}</td>\n",
       "    </tr>\n",
       "  </tbody>\n",
       "</table>\n",
       "</div>"
      ],
      "text/plain": [
       "                 model  best_score  \\\n",
       "0                  svm    0.889231   \n",
       "1        random_forest    0.737846   \n",
       "2  logistic_regression    0.904923   \n",
       "\n",
       "                                    best_params  \n",
       "0        {'svc__C': 1, 'svc__kernel': 'linear'}  \n",
       "1  {'randomforestclassifier__n_estimators': 10}  \n",
       "2                  {'logisticregression__C': 1}  "
      ]
     },
     "execution_count": 65,
     "metadata": {},
     "output_type": "execute_result"
    }
   ],
   "source": [
    "scores = []\n",
    "best_estimators = {}\n",
    "for algo, mp in model_params.items():\n",
    "    pipe = make_pipeline(StandardScaler(), mp['model'])\n",
    "    clf =  GridSearchCV(pipe, mp['params'], cv=5, return_train_score=False)\n",
    "    clf.fit(X_train, Y_train)\n",
    "    print(\"Training completed for: \"+algo)\n",
    "    scores.append({\n",
    "        'model': algo,\n",
    "        'best_score': clf.best_score_,\n",
    "        'best_params': clf.best_params_\n",
    "    })\n",
    "    best_estimators[algo] = clf.best_estimator_\n",
    "    \n",
    "df = pd.DataFrame(scores,columns=['model','best_score','best_params'])\n",
    "df"
   ]
  },
  {
   "cell_type": "code",
   "execution_count": 66,
   "metadata": {},
   "outputs": [
    {
     "data": {
      "text/plain": [
       "{'svm': Pipeline(steps=[('standardscaler', StandardScaler()),\n",
       "                 ('svc',\n",
       "                  SVC(C=1, gamma='auto', kernel='linear', probability=True))]),\n",
       " 'random_forest': Pipeline(steps=[('standardscaler', StandardScaler()),\n",
       "                 ('randomforestclassifier',\n",
       "                  RandomForestClassifier(n_estimators=10))]),\n",
       " 'logistic_regression': Pipeline(steps=[('standardscaler', StandardScaler()),\n",
       "                 ('logisticregression',\n",
       "                  LogisticRegression(C=1, solver='liblinear'))])}"
      ]
     },
     "execution_count": 66,
     "metadata": {},
     "output_type": "execute_result"
    }
   ],
   "source": [
    "best_estimators"
   ]
  },
  {
   "cell_type": "code",
   "execution_count": 68,
   "metadata": {},
   "outputs": [
    {
     "data": {
      "text/plain": [
       "0.8571428571428571"
      ]
     },
     "execution_count": 68,
     "metadata": {},
     "output_type": "execute_result"
    }
   ],
   "source": [
    "my_pipeline = Pipeline([('scaler', StandardScaler()), ('LogisticRegression', LogisticRegression(C=1, solver=\"liblinear\"))])\n",
    "\n",
    "my_pipeline.fit(X_train, Y_train)\n",
    "my_pipeline.score(X_test, Y_test)"
   ]
  },
  {
   "cell_type": "code",
   "execution_count": 69,
   "metadata": {},
   "outputs": [
    {
     "data": {
      "text/plain": [
       "array([[9, 0, 1, 1, 0],\n",
       "       [0, 7, 0, 1, 0],\n",
       "       [0, 0, 5, 1, 0],\n",
       "       [0, 0, 0, 7, 0],\n",
       "       [1, 0, 0, 1, 8]], dtype=int64)"
      ]
     },
     "execution_count": 69,
     "metadata": {},
     "output_type": "execute_result"
    }
   ],
   "source": [
    "from sklearn.metrics import confusion_matrix\n",
    "cm = confusion_matrix(Y_test, my_pipeline.predict(X_test))\n",
    "cm"
   ]
  },
  {
   "cell_type": "code",
   "execution_count": 70,
   "metadata": {},
   "outputs": [
    {
     "data": {
      "text/plain": [
       "Text(95.72222222222221, 0.5, 'Truth')"
      ]
     },
     "execution_count": 70,
     "metadata": {},
     "output_type": "execute_result"
    },
    {
     "data": {
      "image/png": "[encoded data removed]",
      "text/plain": [
       "<Figure size 1000x700 with 2 Axes>"
      ]
     },
     "metadata": {},
     "output_type": "display_data"
    }
   ],
   "source": [
    "import seaborn as sn\n",
    "plt.figure(figsize = (10,7))\n",
    "sn.heatmap(cm, annot=True)\n",
    "plt.xlabel('Predicted')\n",
    "plt.ylabel('Truth')"
   ]
  },
  {
   "cell_type": "code",
   "execution_count": 72,
   "metadata": {},
   "outputs": [
    {
     "name": "stdout",
     "output_type": "stream",
     "text": [
      "Requirement already satisfied: joblib in c:\\users\\veera\\anaconda3\\envs\\tf\\lib\\site-packages (1.3.2)\n"
     ]
    },
    {
     "data": {
      "text/plain": [
       "['saved_model.pkl']"
      ]
     },
     "execution_count": 72,
     "metadata": {},
     "output_type": "execute_result"
    }
   ],
   "source": [
    "!pip install joblib\n",
    "import joblib \n",
    "# Save the model as a pickle in a file \n",
    "joblib.dump(my_pipeline, 'saved_model.pkl') "
   ]
  },
  {
   "cell_type": "code",
   "execution_count": 73,
   "metadata": {},
   "outputs": [],
   "source": [
    "import json\n",
    "with open(\"class_dictionary.json\",\"w\") as f:\n",
    "    f.write(json.dumps(class_dict))"
   ]
  }
 ],
 "metadata": {
  "kernelspec": {
   "display_name": "tf",
   "language": "python",
   "name": "python3"
  },
  "language_info": {
   "codemirror_mode": {
    "name": "ipython",
    "version": 3
   },
   "file_extension": ".py",
   "mimetype": "text/x-python",
   "name": "python",
   "nbconvert_exporter": "python",
   "pygments_lexer": "ipython3",
   "version": "3.9.18"
  }
 },
 "nbformat": 4,
 "nbformat_minor": 2
}
